{
 "cells": [
  {
   "cell_type": "markdown",
   "metadata": {},
   "source": [
    "# Naive Bayes Classification on Lichess January 2013 database"
   ]
  },
  {
   "cell_type": "code",
   "execution_count": 1,
   "metadata": {},
   "outputs": [],
   "source": [
    "from collections import Counter\n",
    "from re import findall\n",
    "import numpy as np\n",
    "from numpy import sign\n",
    "import csv"
   ]
  },
  {
   "cell_type": "markdown",
   "metadata": {},
   "source": [
    "## Preprocessing"
   ]
  },
  {
   "cell_type": "code",
   "execution_count": 2,
   "metadata": {},
   "outputs": [
    {
     "name": "stdout",
     "output_type": "stream",
     "text": [
      "[0, 0, 0, 20.700816468659774, 1.8555555555555554]\n"
     ]
    }
   ],
   "source": [
    "chunks = []\n",
    "\n",
    "with open('./01-2013.pgn', 'r') as file:\n",
    "\n",
    "    #filter into chunks representing individual games\n",
    "    begin_chunk = '[Event'\n",
    "    chunk = ''\n",
    "    #features = []\n",
    "    for line in file:\n",
    "        if line[0:6] != begin_chunk:\n",
    "            chunk += line\n",
    "        else:\n",
    "            chunks.append(chunk[0:len(chunk)-2].split('\\n'))\n",
    "            chunk = line\n",
    "\n",
    "# filter by games with eval\n",
    "eval_chunks = [c for c in chunks if '{' in c[-1][0:10]]\n",
    "# write eval chunks to filtered pgn file\n",
    "with open('./filtered.pgn', 'w') as filtered:\n",
    "    for chunk in eval_chunks:\n",
    "        for e in chunk:\n",
    "            filtered.write(str(e) + '\\n')\n",
    "        filtered.write('\\n\\n')\n",
    "\n",
    "# feature engineering + extraction\n",
    "feature_vectors = []\n",
    "for c in eval_chunks:\n",
    "    # game_type, white_elo, black_elo, termination_type, move_seq\n",
    "    features = [c[0].split()[2], c[7], c[8], c[14], c[16]]\n",
    "    features[1] = int(features[1].split()[1].strip('\"]'))\n",
    "    features[2] = int(features[2].split()[1].strip('\"]'))\n",
    "    features[3] = features[3].split()[1].strip('\"]')\n",
    "    features[4] = [x.strip('\\%eval []') for x in findall(r'\\%eval.{1,5}', features[4])]\n",
    "    feature_vectors.append(features)\n",
    "    # now in format str, int, int, str, list[str]\n",
    "\n",
    "    \n",
    "games_maps = {\n",
    "    'Bullet': 0,\n",
    "    'Blitz': 1,\n",
    "    'Classical': 2,\n",
    "    'Correspondence': 3\n",
    "}\n",
    "\n",
    "end_maps = {\n",
    "    'Normal': 0,\n",
    "    'Time': 1\n",
    "}\n",
    "\n",
    "def bins(stat):\n",
    "    if stat < 1650:\n",
    "        return 0\n",
    "    elif stat < 1950:\n",
    "        return 1\n",
    "    else:\n",
    "        return 2\n",
    "\n",
    "\n",
    "# let's get the eval into a more meaningful format\n",
    "for i, v in enumerate(feature_vectors):\n",
    "    a_0 = games_maps[v[0]]\n",
    "    a_1 = int(bins((v[1] + v[2]) / 2))\n",
    "    a_2 = int(end_maps[v[3]])\n",
    "    a = [float(x) if x[0] != '#' else sign(float(x[1:]))*100 for x in v[4]]\n",
    "    diffs = [round(a[x] - a[x+1], 2) for x in range(0,len(a)-1)]\n",
    "    stdv = np.std(diffs)\n",
    "    mean_ = np.mean(diffs)\n",
    "    a_3 = stdv\n",
    "    a_4 = mean_\n",
    "    feature_vectors[i] = [a_1, a_0, a_2, a_3, a_4]\n",
    "    \n",
    "print(feature_vectors[0])\n",
    "\n",
    "with open('games.csv', 'w') as games:\n",
    "    writer = csv.writer(games)\n",
    "    writer.writerows(feature_vectors)"
   ]
  },
  {
   "cell_type": "markdown",
   "metadata": {},
   "source": [
    "## Classifier\n",
    "\n",
    "### Classify elo bin based on other features"
   ]
  },
  {
   "cell_type": "code",
   "execution_count": 3,
   "metadata": {},
   "outputs": [
    {
     "name": "stdout",
     "output_type": "stream",
     "text": [
      "Requirement already satisfied: mixed-naive-bayes in /Users/adamcatto/opt/anaconda3/lib/python3.8/site-packages (0.0.1)\n",
      "Requirement already satisfied: scikit-learn>=0.20.2 in /Users/adamcatto/opt/anaconda3/lib/python3.8/site-packages (from mixed-naive-bayes) (0.23.1)\n",
      "Requirement already satisfied: numpy>=1.16.1 in /Users/adamcatto/opt/anaconda3/lib/python3.8/site-packages (from mixed-naive-bayes) (1.18.5)\n",
      "Requirement already satisfied: joblib>=0.11 in /Users/adamcatto/opt/anaconda3/lib/python3.8/site-packages (from scikit-learn>=0.20.2->mixed-naive-bayes) (0.16.0)\n",
      "Requirement already satisfied: threadpoolctl>=2.0.0 in /Users/adamcatto/opt/anaconda3/lib/python3.8/site-packages (from scikit-learn>=0.20.2->mixed-naive-bayes) (2.1.0)\n",
      "Requirement already satisfied: scipy>=0.19.1 in /Users/adamcatto/opt/anaconda3/lib/python3.8/site-packages (from scikit-learn>=0.20.2->mixed-naive-bayes) (1.5.0)\n"
     ]
    }
   ],
   "source": [
    "!pip3 install mixed-naive-bayes"
   ]
  },
  {
   "cell_type": "code",
   "execution_count": 7,
   "metadata": {},
   "outputs": [
    {
     "name": "stdout",
     "output_type": "stream",
     "text": [
      "[4 2]\n",
      "Accuracy: 0.5769230769230769\n"
     ]
    }
   ],
   "source": [
    "from sklearn.naive_bayes import GaussianNB\n",
    "from sklearn.model_selection import train_test_split, cross_val_score\n",
    "from mixed_naive_bayes import MixedNB\n",
    "\n",
    "y = [v[0] for v in feature_vectors]\n",
    "X = np.array([x[1:] for x in feature_vectors])\n",
    "\n",
    "model = MixedNB(categorical_features=[0,1])\n",
    "X_train, X_test, y_train, y_test = train_test_split(X, y, test_size=0.2)\n",
    "model.fit(X_train, y_train)\n",
    "y_pred = model.predict(X_test, y_test)\n",
    "\n",
    "print(\"Accuracy: \" + str(((y_test == y_pred).sum()) / X_test.shape[0] ))\n"
   ]
  },
  {
   "cell_type": "markdown",
   "metadata": {},
   "source": []
  },
  {
   "cell_type": "code",
   "execution_count": null,
   "metadata": {},
   "outputs": [],
   "source": []
  }
 ],
 "metadata": {
  "kernelspec": {
   "display_name": "Python 3",
   "language": "python",
   "name": "python3"
  },
  "language_info": {
   "codemirror_mode": {
    "name": "ipython",
    "version": 3
   },
   "file_extension": ".py",
   "mimetype": "text/x-python",
   "name": "python",
   "nbconvert_exporter": "python",
   "pygments_lexer": "ipython3",
   "version": "3.8.3"
  }
 },
 "nbformat": 4,
 "nbformat_minor": 4
}
